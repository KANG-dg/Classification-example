{
  "nbformat": 4,
  "nbformat_minor": 0,
  "metadata": {
    "colab": {
      "provenance": [],
      "authorship_tag": "ABX9TyMDou2W5R/zh2FJaFFRL7hJ",
      "include_colab_link": true
    },
    "kernelspec": {
      "name": "python3",
      "display_name": "Python 3"
    },
    "language_info": {
      "name": "python"
    },
    "accelerator": "GPU",
    "widgets": {
      "application/vnd.jupyter.widget-state+json": {
        "c9b9bf8e52904e27b4fba23a73301e04": {
          "model_module": "@jupyter-widgets/controls",
          "model_name": "HBoxModel",
          "model_module_version": "1.5.0",
          "state": {
            "_dom_classes": [],
            "_model_module": "@jupyter-widgets/controls",
            "_model_module_version": "1.5.0",
            "_model_name": "HBoxModel",
            "_view_count": null,
            "_view_module": "@jupyter-widgets/controls",
            "_view_module_version": "1.5.0",
            "_view_name": "HBoxView",
            "box_style": "",
            "children": [
              "IPY_MODEL_fca678f26a9d4f46b84f02dc687bd8c2",
              "IPY_MODEL_7564d0ef22ff4e26a6f2664410c18ebb",
              "IPY_MODEL_2a3464a6cfa94862948a022d26dc8330"
            ],
            "layout": "IPY_MODEL_ef00b2eccda94f6eacf4fe894108e552"
          }
        },
        "fca678f26a9d4f46b84f02dc687bd8c2": {
          "model_module": "@jupyter-widgets/controls",
          "model_name": "HTMLModel",
          "model_module_version": "1.5.0",
          "state": {
            "_dom_classes": [],
            "_model_module": "@jupyter-widgets/controls",
            "_model_module_version": "1.5.0",
            "_model_name": "HTMLModel",
            "_view_count": null,
            "_view_module": "@jupyter-widgets/controls",
            "_view_module_version": "1.5.0",
            "_view_name": "HTMLView",
            "description": "",
            "description_tooltip": null,
            "layout": "IPY_MODEL_f5c257464c3d46c2a1777c3600b5adb9",
            "placeholder": "​",
            "style": "IPY_MODEL_3d8973a08db5401e96817dbcce843232",
            "value": "100%"
          }
        },
        "7564d0ef22ff4e26a6f2664410c18ebb": {
          "model_module": "@jupyter-widgets/controls",
          "model_name": "FloatProgressModel",
          "model_module_version": "1.5.0",
          "state": {
            "_dom_classes": [],
            "_model_module": "@jupyter-widgets/controls",
            "_model_module_version": "1.5.0",
            "_model_name": "FloatProgressModel",
            "_view_count": null,
            "_view_module": "@jupyter-widgets/controls",
            "_view_module_version": "1.5.0",
            "_view_name": "ProgressView",
            "bar_style": "success",
            "description": "",
            "description_tooltip": null,
            "layout": "IPY_MODEL_d49173fb17b542129c6bb08da94cb457",
            "max": 9912422,
            "min": 0,
            "orientation": "horizontal",
            "style": "IPY_MODEL_46149dc6706042b0b291213f3e265f72",
            "value": 9912422
          }
        },
        "2a3464a6cfa94862948a022d26dc8330": {
          "model_module": "@jupyter-widgets/controls",
          "model_name": "HTMLModel",
          "model_module_version": "1.5.0",
          "state": {
            "_dom_classes": [],
            "_model_module": "@jupyter-widgets/controls",
            "_model_module_version": "1.5.0",
            "_model_name": "HTMLModel",
            "_view_count": null,
            "_view_module": "@jupyter-widgets/controls",
            "_view_module_version": "1.5.0",
            "_view_name": "HTMLView",
            "description": "",
            "description_tooltip": null,
            "layout": "IPY_MODEL_b5dac47c86ab48d0b0534fb079bc6613",
            "placeholder": "​",
            "style": "IPY_MODEL_1db527d7d32a444c8056c386281d62b3",
            "value": " 9912422/9912422 [00:00&lt;00:00, 86800722.29it/s]"
          }
        },
        "ef00b2eccda94f6eacf4fe894108e552": {
          "model_module": "@jupyter-widgets/base",
          "model_name": "LayoutModel",
          "model_module_version": "1.2.0",
          "state": {
            "_model_module": "@jupyter-widgets/base",
            "_model_module_version": "1.2.0",
            "_model_name": "LayoutModel",
            "_view_count": null,
            "_view_module": "@jupyter-widgets/base",
            "_view_module_version": "1.2.0",
            "_view_name": "LayoutView",
            "align_content": null,
            "align_items": null,
            "align_self": null,
            "border": null,
            "bottom": null,
            "display": null,
            "flex": null,
            "flex_flow": null,
            "grid_area": null,
            "grid_auto_columns": null,
            "grid_auto_flow": null,
            "grid_auto_rows": null,
            "grid_column": null,
            "grid_gap": null,
            "grid_row": null,
            "grid_template_areas": null,
            "grid_template_columns": null,
            "grid_template_rows": null,
            "height": null,
            "justify_content": null,
            "justify_items": null,
            "left": null,
            "margin": null,
            "max_height": null,
            "max_width": null,
            "min_height": null,
            "min_width": null,
            "object_fit": null,
            "object_position": null,
            "order": null,
            "overflow": null,
            "overflow_x": null,
            "overflow_y": null,
            "padding": null,
            "right": null,
            "top": null,
            "visibility": null,
            "width": null
          }
        },
        "f5c257464c3d46c2a1777c3600b5adb9": {
          "model_module": "@jupyter-widgets/base",
          "model_name": "LayoutModel",
          "model_module_version": "1.2.0",
          "state": {
            "_model_module": "@jupyter-widgets/base",
            "_model_module_version": "1.2.0",
            "_model_name": "LayoutModel",
            "_view_count": null,
            "_view_module": "@jupyter-widgets/base",
            "_view_module_version": "1.2.0",
            "_view_name": "LayoutView",
            "align_content": null,
            "align_items": null,
            "align_self": null,
            "border": null,
            "bottom": null,
            "display": null,
            "flex": null,
            "flex_flow": null,
            "grid_area": null,
            "grid_auto_columns": null,
            "grid_auto_flow": null,
            "grid_auto_rows": null,
            "grid_column": null,
            "grid_gap": null,
            "grid_row": null,
            "grid_template_areas": null,
            "grid_template_columns": null,
            "grid_template_rows": null,
            "height": null,
            "justify_content": null,
            "justify_items": null,
            "left": null,
            "margin": null,
            "max_height": null,
            "max_width": null,
            "min_height": null,
            "min_width": null,
            "object_fit": null,
            "object_position": null,
            "order": null,
            "overflow": null,
            "overflow_x": null,
            "overflow_y": null,
            "padding": null,
            "right": null,
            "top": null,
            "visibility": null,
            "width": null
          }
        },
        "3d8973a08db5401e96817dbcce843232": {
          "model_module": "@jupyter-widgets/controls",
          "model_name": "DescriptionStyleModel",
          "model_module_version": "1.5.0",
          "state": {
            "_model_module": "@jupyter-widgets/controls",
            "_model_module_version": "1.5.0",
            "_model_name": "DescriptionStyleModel",
            "_view_count": null,
            "_view_module": "@jupyter-widgets/base",
            "_view_module_version": "1.2.0",
            "_view_name": "StyleView",
            "description_width": ""
          }
        },
        "d49173fb17b542129c6bb08da94cb457": {
          "model_module": "@jupyter-widgets/base",
          "model_name": "LayoutModel",
          "model_module_version": "1.2.0",
          "state": {
            "_model_module": "@jupyter-widgets/base",
            "_model_module_version": "1.2.0",
            "_model_name": "LayoutModel",
            "_view_count": null,
            "_view_module": "@jupyter-widgets/base",
            "_view_module_version": "1.2.0",
            "_view_name": "LayoutView",
            "align_content": null,
            "align_items": null,
            "align_self": null,
            "border": null,
            "bottom": null,
            "display": null,
            "flex": null,
            "flex_flow": null,
            "grid_area": null,
            "grid_auto_columns": null,
            "grid_auto_flow": null,
            "grid_auto_rows": null,
            "grid_column": null,
            "grid_gap": null,
            "grid_row": null,
            "grid_template_areas": null,
            "grid_template_columns": null,
            "grid_template_rows": null,
            "height": null,
            "justify_content": null,
            "justify_items": null,
            "left": null,
            "margin": null,
            "max_height": null,
            "max_width": null,
            "min_height": null,
            "min_width": null,
            "object_fit": null,
            "object_position": null,
            "order": null,
            "overflow": null,
            "overflow_x": null,
            "overflow_y": null,
            "padding": null,
            "right": null,
            "top": null,
            "visibility": null,
            "width": null
          }
        },
        "46149dc6706042b0b291213f3e265f72": {
          "model_module": "@jupyter-widgets/controls",
          "model_name": "ProgressStyleModel",
          "model_module_version": "1.5.0",
          "state": {
            "_model_module": "@jupyter-widgets/controls",
            "_model_module_version": "1.5.0",
            "_model_name": "ProgressStyleModel",
            "_view_count": null,
            "_view_module": "@jupyter-widgets/base",
            "_view_module_version": "1.2.0",
            "_view_name": "StyleView",
            "bar_color": null,
            "description_width": ""
          }
        },
        "b5dac47c86ab48d0b0534fb079bc6613": {
          "model_module": "@jupyter-widgets/base",
          "model_name": "LayoutModel",
          "model_module_version": "1.2.0",
          "state": {
            "_model_module": "@jupyter-widgets/base",
            "_model_module_version": "1.2.0",
            "_model_name": "LayoutModel",
            "_view_count": null,
            "_view_module": "@jupyter-widgets/base",
            "_view_module_version": "1.2.0",
            "_view_name": "LayoutView",
            "align_content": null,
            "align_items": null,
            "align_self": null,
            "border": null,
            "bottom": null,
            "display": null,
            "flex": null,
            "flex_flow": null,
            "grid_area": null,
            "grid_auto_columns": null,
            "grid_auto_flow": null,
            "grid_auto_rows": null,
            "grid_column": null,
            "grid_gap": null,
            "grid_row": null,
            "grid_template_areas": null,
            "grid_template_columns": null,
            "grid_template_rows": null,
            "height": null,
            "justify_content": null,
            "justify_items": null,
            "left": null,
            "margin": null,
            "max_height": null,
            "max_width": null,
            "min_height": null,
            "min_width": null,
            "object_fit": null,
            "object_position": null,
            "order": null,
            "overflow": null,
            "overflow_x": null,
            "overflow_y": null,
            "padding": null,
            "right": null,
            "top": null,
            "visibility": null,
            "width": null
          }
        },
        "1db527d7d32a444c8056c386281d62b3": {
          "model_module": "@jupyter-widgets/controls",
          "model_name": "DescriptionStyleModel",
          "model_module_version": "1.5.0",
          "state": {
            "_model_module": "@jupyter-widgets/controls",
            "_model_module_version": "1.5.0",
            "_model_name": "DescriptionStyleModel",
            "_view_count": null,
            "_view_module": "@jupyter-widgets/base",
            "_view_module_version": "1.2.0",
            "_view_name": "StyleView",
            "description_width": ""
          }
        },
        "930601546fb64c1dac1f211bb8caf8a1": {
          "model_module": "@jupyter-widgets/controls",
          "model_name": "HBoxModel",
          "model_module_version": "1.5.0",
          "state": {
            "_dom_classes": [],
            "_model_module": "@jupyter-widgets/controls",
            "_model_module_version": "1.5.0",
            "_model_name": "HBoxModel",
            "_view_count": null,
            "_view_module": "@jupyter-widgets/controls",
            "_view_module_version": "1.5.0",
            "_view_name": "HBoxView",
            "box_style": "",
            "children": [
              "IPY_MODEL_2a7fd7a7bc8c470684d4e86ec0a97fd5",
              "IPY_MODEL_566c151b8b004220a282601c831eb644",
              "IPY_MODEL_9a2b8aefd5fc4e13bf087b620746dcf6"
            ],
            "layout": "IPY_MODEL_8dadc1e3d6704b35a6f1512dc4718bc3"
          }
        },
        "2a7fd7a7bc8c470684d4e86ec0a97fd5": {
          "model_module": "@jupyter-widgets/controls",
          "model_name": "HTMLModel",
          "model_module_version": "1.5.0",
          "state": {
            "_dom_classes": [],
            "_model_module": "@jupyter-widgets/controls",
            "_model_module_version": "1.5.0",
            "_model_name": "HTMLModel",
            "_view_count": null,
            "_view_module": "@jupyter-widgets/controls",
            "_view_module_version": "1.5.0",
            "_view_name": "HTMLView",
            "description": "",
            "description_tooltip": null,
            "layout": "IPY_MODEL_57ce8388ed44446a9cdb5b7712fc6e47",
            "placeholder": "​",
            "style": "IPY_MODEL_d578295f392b4459b27d2d9cd883e2d1",
            "value": "100%"
          }
        },
        "566c151b8b004220a282601c831eb644": {
          "model_module": "@jupyter-widgets/controls",
          "model_name": "FloatProgressModel",
          "model_module_version": "1.5.0",
          "state": {
            "_dom_classes": [],
            "_model_module": "@jupyter-widgets/controls",
            "_model_module_version": "1.5.0",
            "_model_name": "FloatProgressModel",
            "_view_count": null,
            "_view_module": "@jupyter-widgets/controls",
            "_view_module_version": "1.5.0",
            "_view_name": "ProgressView",
            "bar_style": "success",
            "description": "",
            "description_tooltip": null,
            "layout": "IPY_MODEL_137178e01529455d9c19962efe8f4aa2",
            "max": 28881,
            "min": 0,
            "orientation": "horizontal",
            "style": "IPY_MODEL_6f7ba85bceab430389f0b93509e377e9",
            "value": 28881
          }
        },
        "9a2b8aefd5fc4e13bf087b620746dcf6": {
          "model_module": "@jupyter-widgets/controls",
          "model_name": "HTMLModel",
          "model_module_version": "1.5.0",
          "state": {
            "_dom_classes": [],
            "_model_module": "@jupyter-widgets/controls",
            "_model_module_version": "1.5.0",
            "_model_name": "HTMLModel",
            "_view_count": null,
            "_view_module": "@jupyter-widgets/controls",
            "_view_module_version": "1.5.0",
            "_view_name": "HTMLView",
            "description": "",
            "description_tooltip": null,
            "layout": "IPY_MODEL_658bb5aecb22431cadfe4b6eded7cb4f",
            "placeholder": "​",
            "style": "IPY_MODEL_551e8fa064ba45e088499920f22dc5f0",
            "value": " 28881/28881 [00:00&lt;00:00, 799422.51it/s]"
          }
        },
        "8dadc1e3d6704b35a6f1512dc4718bc3": {
          "model_module": "@jupyter-widgets/base",
          "model_name": "LayoutModel",
          "model_module_version": "1.2.0",
          "state": {
            "_model_module": "@jupyter-widgets/base",
            "_model_module_version": "1.2.0",
            "_model_name": "LayoutModel",
            "_view_count": null,
            "_view_module": "@jupyter-widgets/base",
            "_view_module_version": "1.2.0",
            "_view_name": "LayoutView",
            "align_content": null,
            "align_items": null,
            "align_self": null,
            "border": null,
            "bottom": null,
            "display": null,
            "flex": null,
            "flex_flow": null,
            "grid_area": null,
            "grid_auto_columns": null,
            "grid_auto_flow": null,
            "grid_auto_rows": null,
            "grid_column": null,
            "grid_gap": null,
            "grid_row": null,
            "grid_template_areas": null,
            "grid_template_columns": null,
            "grid_template_rows": null,
            "height": null,
            "justify_content": null,
            "justify_items": null,
            "left": null,
            "margin": null,
            "max_height": null,
            "max_width": null,
            "min_height": null,
            "min_width": null,
            "object_fit": null,
            "object_position": null,
            "order": null,
            "overflow": null,
            "overflow_x": null,
            "overflow_y": null,
            "padding": null,
            "right": null,
            "top": null,
            "visibility": null,
            "width": null
          }
        },
        "57ce8388ed44446a9cdb5b7712fc6e47": {
          "model_module": "@jupyter-widgets/base",
          "model_name": "LayoutModel",
          "model_module_version": "1.2.0",
          "state": {
            "_model_module": "@jupyter-widgets/base",
            "_model_module_version": "1.2.0",
            "_model_name": "LayoutModel",
            "_view_count": null,
            "_view_module": "@jupyter-widgets/base",
            "_view_module_version": "1.2.0",
            "_view_name": "LayoutView",
            "align_content": null,
            "align_items": null,
            "align_self": null,
            "border": null,
            "bottom": null,
            "display": null,
            "flex": null,
            "flex_flow": null,
            "grid_area": null,
            "grid_auto_columns": null,
            "grid_auto_flow": null,
            "grid_auto_rows": null,
            "grid_column": null,
            "grid_gap": null,
            "grid_row": null,
            "grid_template_areas": null,
            "grid_template_columns": null,
            "grid_template_rows": null,
            "height": null,
            "justify_content": null,
            "justify_items": null,
            "left": null,
            "margin": null,
            "max_height": null,
            "max_width": null,
            "min_height": null,
            "min_width": null,
            "object_fit": null,
            "object_position": null,
            "order": null,
            "overflow": null,
            "overflow_x": null,
            "overflow_y": null,
            "padding": null,
            "right": null,
            "top": null,
            "visibility": null,
            "width": null
          }
        },
        "d578295f392b4459b27d2d9cd883e2d1": {
          "model_module": "@jupyter-widgets/controls",
          "model_name": "DescriptionStyleModel",
          "model_module_version": "1.5.0",
          "state": {
            "_model_module": "@jupyter-widgets/controls",
            "_model_module_version": "1.5.0",
            "_model_name": "DescriptionStyleModel",
            "_view_count": null,
            "_view_module": "@jupyter-widgets/base",
            "_view_module_version": "1.2.0",
            "_view_name": "StyleView",
            "description_width": ""
          }
        },
        "137178e01529455d9c19962efe8f4aa2": {
          "model_module": "@jupyter-widgets/base",
          "model_name": "LayoutModel",
          "model_module_version": "1.2.0",
          "state": {
            "_model_module": "@jupyter-widgets/base",
            "_model_module_version": "1.2.0",
            "_model_name": "LayoutModel",
            "_view_count": null,
            "_view_module": "@jupyter-widgets/base",
            "_view_module_version": "1.2.0",
            "_view_name": "LayoutView",
            "align_content": null,
            "align_items": null,
            "align_self": null,
            "border": null,
            "bottom": null,
            "display": null,
            "flex": null,
            "flex_flow": null,
            "grid_area": null,
            "grid_auto_columns": null,
            "grid_auto_flow": null,
            "grid_auto_rows": null,
            "grid_column": null,
            "grid_gap": null,
            "grid_row": null,
            "grid_template_areas": null,
            "grid_template_columns": null,
            "grid_template_rows": null,
            "height": null,
            "justify_content": null,
            "justify_items": null,
            "left": null,
            "margin": null,
            "max_height": null,
            "max_width": null,
            "min_height": null,
            "min_width": null,
            "object_fit": null,
            "object_position": null,
            "order": null,
            "overflow": null,
            "overflow_x": null,
            "overflow_y": null,
            "padding": null,
            "right": null,
            "top": null,
            "visibility": null,
            "width": null
          }
        },
        "6f7ba85bceab430389f0b93509e377e9": {
          "model_module": "@jupyter-widgets/controls",
          "model_name": "ProgressStyleModel",
          "model_module_version": "1.5.0",
          "state": {
            "_model_module": "@jupyter-widgets/controls",
            "_model_module_version": "1.5.0",
            "_model_name": "ProgressStyleModel",
            "_view_count": null,
            "_view_module": "@jupyter-widgets/base",
            "_view_module_version": "1.2.0",
            "_view_name": "StyleView",
            "bar_color": null,
            "description_width": ""
          }
        },
        "658bb5aecb22431cadfe4b6eded7cb4f": {
          "model_module": "@jupyter-widgets/base",
          "model_name": "LayoutModel",
          "model_module_version": "1.2.0",
          "state": {
            "_model_module": "@jupyter-widgets/base",
            "_model_module_version": "1.2.0",
            "_model_name": "LayoutModel",
            "_view_count": null,
            "_view_module": "@jupyter-widgets/base",
            "_view_module_version": "1.2.0",
            "_view_name": "LayoutView",
            "align_content": null,
            "align_items": null,
            "align_self": null,
            "border": null,
            "bottom": null,
            "display": null,
            "flex": null,
            "flex_flow": null,
            "grid_area": null,
            "grid_auto_columns": null,
            "grid_auto_flow": null,
            "grid_auto_rows": null,
            "grid_column": null,
            "grid_gap": null,
            "grid_row": null,
            "grid_template_areas": null,
            "grid_template_columns": null,
            "grid_template_rows": null,
            "height": null,
            "justify_content": null,
            "justify_items": null,
            "left": null,
            "margin": null,
            "max_height": null,
            "max_width": null,
            "min_height": null,
            "min_width": null,
            "object_fit": null,
            "object_position": null,
            "order": null,
            "overflow": null,
            "overflow_x": null,
            "overflow_y": null,
            "padding": null,
            "right": null,
            "top": null,
            "visibility": null,
            "width": null
          }
        },
        "551e8fa064ba45e088499920f22dc5f0": {
          "model_module": "@jupyter-widgets/controls",
          "model_name": "DescriptionStyleModel",
          "model_module_version": "1.5.0",
          "state": {
            "_model_module": "@jupyter-widgets/controls",
            "_model_module_version": "1.5.0",
            "_model_name": "DescriptionStyleModel",
            "_view_count": null,
            "_view_module": "@jupyter-widgets/base",
            "_view_module_version": "1.2.0",
            "_view_name": "StyleView",
            "description_width": ""
          }
        },
        "8430acd6039c4ab0b7fc58e93793cdc1": {
          "model_module": "@jupyter-widgets/controls",
          "model_name": "HBoxModel",
          "model_module_version": "1.5.0",
          "state": {
            "_dom_classes": [],
            "_model_module": "@jupyter-widgets/controls",
            "_model_module_version": "1.5.0",
            "_model_name": "HBoxModel",
            "_view_count": null,
            "_view_module": "@jupyter-widgets/controls",
            "_view_module_version": "1.5.0",
            "_view_name": "HBoxView",
            "box_style": "",
            "children": [
              "IPY_MODEL_26867de42d7540c6b52109af85f02b66",
              "IPY_MODEL_9a5f71edd2d54fcf9208242c4e0d0c85",
              "IPY_MODEL_530795e98d4147f79a307503d210b066"
            ],
            "layout": "IPY_MODEL_7129af09f5784e9586d55a8663381a22"
          }
        },
        "26867de42d7540c6b52109af85f02b66": {
          "model_module": "@jupyter-widgets/controls",
          "model_name": "HTMLModel",
          "model_module_version": "1.5.0",
          "state": {
            "_dom_classes": [],
            "_model_module": "@jupyter-widgets/controls",
            "_model_module_version": "1.5.0",
            "_model_name": "HTMLModel",
            "_view_count": null,
            "_view_module": "@jupyter-widgets/controls",
            "_view_module_version": "1.5.0",
            "_view_name": "HTMLView",
            "description": "",
            "description_tooltip": null,
            "layout": "IPY_MODEL_d4027497460f44b493ff37226bf7303e",
            "placeholder": "​",
            "style": "IPY_MODEL_e8c465a921c14e01adf5925607569975",
            "value": "100%"
          }
        },
        "9a5f71edd2d54fcf9208242c4e0d0c85": {
          "model_module": "@jupyter-widgets/controls",
          "model_name": "FloatProgressModel",
          "model_module_version": "1.5.0",
          "state": {
            "_dom_classes": [],
            "_model_module": "@jupyter-widgets/controls",
            "_model_module_version": "1.5.0",
            "_model_name": "FloatProgressModel",
            "_view_count": null,
            "_view_module": "@jupyter-widgets/controls",
            "_view_module_version": "1.5.0",
            "_view_name": "ProgressView",
            "bar_style": "success",
            "description": "",
            "description_tooltip": null,
            "layout": "IPY_MODEL_46bf873075f44139935fd2aa40ff0f73",
            "max": 1648877,
            "min": 0,
            "orientation": "horizontal",
            "style": "IPY_MODEL_0e0023ea373f4f4d9e665e2a187c4ab2",
            "value": 1648877
          }
        },
        "530795e98d4147f79a307503d210b066": {
          "model_module": "@jupyter-widgets/controls",
          "model_name": "HTMLModel",
          "model_module_version": "1.5.0",
          "state": {
            "_dom_classes": [],
            "_model_module": "@jupyter-widgets/controls",
            "_model_module_version": "1.5.0",
            "_model_name": "HTMLModel",
            "_view_count": null,
            "_view_module": "@jupyter-widgets/controls",
            "_view_module_version": "1.5.0",
            "_view_name": "HTMLView",
            "description": "",
            "description_tooltip": null,
            "layout": "IPY_MODEL_05a306c031dd481190f981f8fbb1d88a",
            "placeholder": "​",
            "style": "IPY_MODEL_4f946fa838994bfcb36b389838485c95",
            "value": " 1648877/1648877 [00:00&lt;00:00, 38552053.32it/s]"
          }
        },
        "7129af09f5784e9586d55a8663381a22": {
          "model_module": "@jupyter-widgets/base",
          "model_name": "LayoutModel",
          "model_module_version": "1.2.0",
          "state": {
            "_model_module": "@jupyter-widgets/base",
            "_model_module_version": "1.2.0",
            "_model_name": "LayoutModel",
            "_view_count": null,
            "_view_module": "@jupyter-widgets/base",
            "_view_module_version": "1.2.0",
            "_view_name": "LayoutView",
            "align_content": null,
            "align_items": null,
            "align_self": null,
            "border": null,
            "bottom": null,
            "display": null,
            "flex": null,
            "flex_flow": null,
            "grid_area": null,
            "grid_auto_columns": null,
            "grid_auto_flow": null,
            "grid_auto_rows": null,
            "grid_column": null,
            "grid_gap": null,
            "grid_row": null,
            "grid_template_areas": null,
            "grid_template_columns": null,
            "grid_template_rows": null,
            "height": null,
            "justify_content": null,
            "justify_items": null,
            "left": null,
            "margin": null,
            "max_height": null,
            "max_width": null,
            "min_height": null,
            "min_width": null,
            "object_fit": null,
            "object_position": null,
            "order": null,
            "overflow": null,
            "overflow_x": null,
            "overflow_y": null,
            "padding": null,
            "right": null,
            "top": null,
            "visibility": null,
            "width": null
          }
        },
        "d4027497460f44b493ff37226bf7303e": {
          "model_module": "@jupyter-widgets/base",
          "model_name": "LayoutModel",
          "model_module_version": "1.2.0",
          "state": {
            "_model_module": "@jupyter-widgets/base",
            "_model_module_version": "1.2.0",
            "_model_name": "LayoutModel",
            "_view_count": null,
            "_view_module": "@jupyter-widgets/base",
            "_view_module_version": "1.2.0",
            "_view_name": "LayoutView",
            "align_content": null,
            "align_items": null,
            "align_self": null,
            "border": null,
            "bottom": null,
            "display": null,
            "flex": null,
            "flex_flow": null,
            "grid_area": null,
            "grid_auto_columns": null,
            "grid_auto_flow": null,
            "grid_auto_rows": null,
            "grid_column": null,
            "grid_gap": null,
            "grid_row": null,
            "grid_template_areas": null,
            "grid_template_columns": null,
            "grid_template_rows": null,
            "height": null,
            "justify_content": null,
            "justify_items": null,
            "left": null,
            "margin": null,
            "max_height": null,
            "max_width": null,
            "min_height": null,
            "min_width": null,
            "object_fit": null,
            "object_position": null,
            "order": null,
            "overflow": null,
            "overflow_x": null,
            "overflow_y": null,
            "padding": null,
            "right": null,
            "top": null,
            "visibility": null,
            "width": null
          }
        },
        "e8c465a921c14e01adf5925607569975": {
          "model_module": "@jupyter-widgets/controls",
          "model_name": "DescriptionStyleModel",
          "model_module_version": "1.5.0",
          "state": {
            "_model_module": "@jupyter-widgets/controls",
            "_model_module_version": "1.5.0",
            "_model_name": "DescriptionStyleModel",
            "_view_count": null,
            "_view_module": "@jupyter-widgets/base",
            "_view_module_version": "1.2.0",
            "_view_name": "StyleView",
            "description_width": ""
          }
        },
        "46bf873075f44139935fd2aa40ff0f73": {
          "model_module": "@jupyter-widgets/base",
          "model_name": "LayoutModel",
          "model_module_version": "1.2.0",
          "state": {
            "_model_module": "@jupyter-widgets/base",
            "_model_module_version": "1.2.0",
            "_model_name": "LayoutModel",
            "_view_count": null,
            "_view_module": "@jupyter-widgets/base",
            "_view_module_version": "1.2.0",
            "_view_name": "LayoutView",
            "align_content": null,
            "align_items": null,
            "align_self": null,
            "border": null,
            "bottom": null,
            "display": null,
            "flex": null,
            "flex_flow": null,
            "grid_area": null,
            "grid_auto_columns": null,
            "grid_auto_flow": null,
            "grid_auto_rows": null,
            "grid_column": null,
            "grid_gap": null,
            "grid_row": null,
            "grid_template_areas": null,
            "grid_template_columns": null,
            "grid_template_rows": null,
            "height": null,
            "justify_content": null,
            "justify_items": null,
            "left": null,
            "margin": null,
            "max_height": null,
            "max_width": null,
            "min_height": null,
            "min_width": null,
            "object_fit": null,
            "object_position": null,
            "order": null,
            "overflow": null,
            "overflow_x": null,
            "overflow_y": null,
            "padding": null,
            "right": null,
            "top": null,
            "visibility": null,
            "width": null
          }
        },
        "0e0023ea373f4f4d9e665e2a187c4ab2": {
          "model_module": "@jupyter-widgets/controls",
          "model_name": "ProgressStyleModel",
          "model_module_version": "1.5.0",
          "state": {
            "_model_module": "@jupyter-widgets/controls",
            "_model_module_version": "1.5.0",
            "_model_name": "ProgressStyleModel",
            "_view_count": null,
            "_view_module": "@jupyter-widgets/base",
            "_view_module_version": "1.2.0",
            "_view_name": "StyleView",
            "bar_color": null,
            "description_width": ""
          }
        },
        "05a306c031dd481190f981f8fbb1d88a": {
          "model_module": "@jupyter-widgets/base",
          "model_name": "LayoutModel",
          "model_module_version": "1.2.0",
          "state": {
            "_model_module": "@jupyter-widgets/base",
            "_model_module_version": "1.2.0",
            "_model_name": "LayoutModel",
            "_view_count": null,
            "_view_module": "@jupyter-widgets/base",
            "_view_module_version": "1.2.0",
            "_view_name": "LayoutView",
            "align_content": null,
            "align_items": null,
            "align_self": null,
            "border": null,
            "bottom": null,
            "display": null,
            "flex": null,
            "flex_flow": null,
            "grid_area": null,
            "grid_auto_columns": null,
            "grid_auto_flow": null,
            "grid_auto_rows": null,
            "grid_column": null,
            "grid_gap": null,
            "grid_row": null,
            "grid_template_areas": null,
            "grid_template_columns": null,
            "grid_template_rows": null,
            "height": null,
            "justify_content": null,
            "justify_items": null,
            "left": null,
            "margin": null,
            "max_height": null,
            "max_width": null,
            "min_height": null,
            "min_width": null,
            "object_fit": null,
            "object_position": null,
            "order": null,
            "overflow": null,
            "overflow_x": null,
            "overflow_y": null,
            "padding": null,
            "right": null,
            "top": null,
            "visibility": null,
            "width": null
          }
        },
        "4f946fa838994bfcb36b389838485c95": {
          "model_module": "@jupyter-widgets/controls",
          "model_name": "DescriptionStyleModel",
          "model_module_version": "1.5.0",
          "state": {
            "_model_module": "@jupyter-widgets/controls",
            "_model_module_version": "1.5.0",
            "_model_name": "DescriptionStyleModel",
            "_view_count": null,
            "_view_module": "@jupyter-widgets/base",
            "_view_module_version": "1.2.0",
            "_view_name": "StyleView",
            "description_width": ""
          }
        },
        "8ff69a631b684e4c94a5bcd44a4769aa": {
          "model_module": "@jupyter-widgets/controls",
          "model_name": "HBoxModel",
          "model_module_version": "1.5.0",
          "state": {
            "_dom_classes": [],
            "_model_module": "@jupyter-widgets/controls",
            "_model_module_version": "1.5.0",
            "_model_name": "HBoxModel",
            "_view_count": null,
            "_view_module": "@jupyter-widgets/controls",
            "_view_module_version": "1.5.0",
            "_view_name": "HBoxView",
            "box_style": "",
            "children": [
              "IPY_MODEL_ed82bd263f3d46e089bc6c75461ded02",
              "IPY_MODEL_57170dba52a043d299ce13977a3529d2",
              "IPY_MODEL_9ae3db4f5dc64318bad37ee815605d81"
            ],
            "layout": "IPY_MODEL_69f8cbd7a63c4aed947238c14e97ad79"
          }
        },
        "ed82bd263f3d46e089bc6c75461ded02": {
          "model_module": "@jupyter-widgets/controls",
          "model_name": "HTMLModel",
          "model_module_version": "1.5.0",
          "state": {
            "_dom_classes": [],
            "_model_module": "@jupyter-widgets/controls",
            "_model_module_version": "1.5.0",
            "_model_name": "HTMLModel",
            "_view_count": null,
            "_view_module": "@jupyter-widgets/controls",
            "_view_module_version": "1.5.0",
            "_view_name": "HTMLView",
            "description": "",
            "description_tooltip": null,
            "layout": "IPY_MODEL_fbf0f3c8262a4571b311c48eda2036f5",
            "placeholder": "​",
            "style": "IPY_MODEL_d724347fe0bc441d90ade6b3fbda770d",
            "value": "100%"
          }
        },
        "57170dba52a043d299ce13977a3529d2": {
          "model_module": "@jupyter-widgets/controls",
          "model_name": "FloatProgressModel",
          "model_module_version": "1.5.0",
          "state": {
            "_dom_classes": [],
            "_model_module": "@jupyter-widgets/controls",
            "_model_module_version": "1.5.0",
            "_model_name": "FloatProgressModel",
            "_view_count": null,
            "_view_module": "@jupyter-widgets/controls",
            "_view_module_version": "1.5.0",
            "_view_name": "ProgressView",
            "bar_style": "success",
            "description": "",
            "description_tooltip": null,
            "layout": "IPY_MODEL_effe32044e454bd69ced7f0322fbeceb",
            "max": 4542,
            "min": 0,
            "orientation": "horizontal",
            "style": "IPY_MODEL_106d7e221aea4d96850470be58fffba5",
            "value": 4542
          }
        },
        "9ae3db4f5dc64318bad37ee815605d81": {
          "model_module": "@jupyter-widgets/controls",
          "model_name": "HTMLModel",
          "model_module_version": "1.5.0",
          "state": {
            "_dom_classes": [],
            "_model_module": "@jupyter-widgets/controls",
            "_model_module_version": "1.5.0",
            "_model_name": "HTMLModel",
            "_view_count": null,
            "_view_module": "@jupyter-widgets/controls",
            "_view_module_version": "1.5.0",
            "_view_name": "HTMLView",
            "description": "",
            "description_tooltip": null,
            "layout": "IPY_MODEL_91e49793c59b456c842aad5243c0cf66",
            "placeholder": "​",
            "style": "IPY_MODEL_f80a6e68772c4b22a91a07b18722505d",
            "value": " 4542/4542 [00:00&lt;00:00, 95716.87it/s]"
          }
        },
        "69f8cbd7a63c4aed947238c14e97ad79": {
          "model_module": "@jupyter-widgets/base",
          "model_name": "LayoutModel",
          "model_module_version": "1.2.0",
          "state": {
            "_model_module": "@jupyter-widgets/base",
            "_model_module_version": "1.2.0",
            "_model_name": "LayoutModel",
            "_view_count": null,
            "_view_module": "@jupyter-widgets/base",
            "_view_module_version": "1.2.0",
            "_view_name": "LayoutView",
            "align_content": null,
            "align_items": null,
            "align_self": null,
            "border": null,
            "bottom": null,
            "display": null,
            "flex": null,
            "flex_flow": null,
            "grid_area": null,
            "grid_auto_columns": null,
            "grid_auto_flow": null,
            "grid_auto_rows": null,
            "grid_column": null,
            "grid_gap": null,
            "grid_row": null,
            "grid_template_areas": null,
            "grid_template_columns": null,
            "grid_template_rows": null,
            "height": null,
            "justify_content": null,
            "justify_items": null,
            "left": null,
            "margin": null,
            "max_height": null,
            "max_width": null,
            "min_height": null,
            "min_width": null,
            "object_fit": null,
            "object_position": null,
            "order": null,
            "overflow": null,
            "overflow_x": null,
            "overflow_y": null,
            "padding": null,
            "right": null,
            "top": null,
            "visibility": null,
            "width": null
          }
        },
        "fbf0f3c8262a4571b311c48eda2036f5": {
          "model_module": "@jupyter-widgets/base",
          "model_name": "LayoutModel",
          "model_module_version": "1.2.0",
          "state": {
            "_model_module": "@jupyter-widgets/base",
            "_model_module_version": "1.2.0",
            "_model_name": "LayoutModel",
            "_view_count": null,
            "_view_module": "@jupyter-widgets/base",
            "_view_module_version": "1.2.0",
            "_view_name": "LayoutView",
            "align_content": null,
            "align_items": null,
            "align_self": null,
            "border": null,
            "bottom": null,
            "display": null,
            "flex": null,
            "flex_flow": null,
            "grid_area": null,
            "grid_auto_columns": null,
            "grid_auto_flow": null,
            "grid_auto_rows": null,
            "grid_column": null,
            "grid_gap": null,
            "grid_row": null,
            "grid_template_areas": null,
            "grid_template_columns": null,
            "grid_template_rows": null,
            "height": null,
            "justify_content": null,
            "justify_items": null,
            "left": null,
            "margin": null,
            "max_height": null,
            "max_width": null,
            "min_height": null,
            "min_width": null,
            "object_fit": null,
            "object_position": null,
            "order": null,
            "overflow": null,
            "overflow_x": null,
            "overflow_y": null,
            "padding": null,
            "right": null,
            "top": null,
            "visibility": null,
            "width": null
          }
        },
        "d724347fe0bc441d90ade6b3fbda770d": {
          "model_module": "@jupyter-widgets/controls",
          "model_name": "DescriptionStyleModel",
          "model_module_version": "1.5.0",
          "state": {
            "_model_module": "@jupyter-widgets/controls",
            "_model_module_version": "1.5.0",
            "_model_name": "DescriptionStyleModel",
            "_view_count": null,
            "_view_module": "@jupyter-widgets/base",
            "_view_module_version": "1.2.0",
            "_view_name": "StyleView",
            "description_width": ""
          }
        },
        "effe32044e454bd69ced7f0322fbeceb": {
          "model_module": "@jupyter-widgets/base",
          "model_name": "LayoutModel",
          "model_module_version": "1.2.0",
          "state": {
            "_model_module": "@jupyter-widgets/base",
            "_model_module_version": "1.2.0",
            "_model_name": "LayoutModel",
            "_view_count": null,
            "_view_module": "@jupyter-widgets/base",
            "_view_module_version": "1.2.0",
            "_view_name": "LayoutView",
            "align_content": null,
            "align_items": null,
            "align_self": null,
            "border": null,
            "bottom": null,
            "display": null,
            "flex": null,
            "flex_flow": null,
            "grid_area": null,
            "grid_auto_columns": null,
            "grid_auto_flow": null,
            "grid_auto_rows": null,
            "grid_column": null,
            "grid_gap": null,
            "grid_row": null,
            "grid_template_areas": null,
            "grid_template_columns": null,
            "grid_template_rows": null,
            "height": null,
            "justify_content": null,
            "justify_items": null,
            "left": null,
            "margin": null,
            "max_height": null,
            "max_width": null,
            "min_height": null,
            "min_width": null,
            "object_fit": null,
            "object_position": null,
            "order": null,
            "overflow": null,
            "overflow_x": null,
            "overflow_y": null,
            "padding": null,
            "right": null,
            "top": null,
            "visibility": null,
            "width": null
          }
        },
        "106d7e221aea4d96850470be58fffba5": {
          "model_module": "@jupyter-widgets/controls",
          "model_name": "ProgressStyleModel",
          "model_module_version": "1.5.0",
          "state": {
            "_model_module": "@jupyter-widgets/controls",
            "_model_module_version": "1.5.0",
            "_model_name": "ProgressStyleModel",
            "_view_count": null,
            "_view_module": "@jupyter-widgets/base",
            "_view_module_version": "1.2.0",
            "_view_name": "StyleView",
            "bar_color": null,
            "description_width": ""
          }
        },
        "91e49793c59b456c842aad5243c0cf66": {
          "model_module": "@jupyter-widgets/base",
          "model_name": "LayoutModel",
          "model_module_version": "1.2.0",
          "state": {
            "_model_module": "@jupyter-widgets/base",
            "_model_module_version": "1.2.0",
            "_model_name": "LayoutModel",
            "_view_count": null,
            "_view_module": "@jupyter-widgets/base",
            "_view_module_version": "1.2.0",
            "_view_name": "LayoutView",
            "align_content": null,
            "align_items": null,
            "align_self": null,
            "border": null,
            "bottom": null,
            "display": null,
            "flex": null,
            "flex_flow": null,
            "grid_area": null,
            "grid_auto_columns": null,
            "grid_auto_flow": null,
            "grid_auto_rows": null,
            "grid_column": null,
            "grid_gap": null,
            "grid_row": null,
            "grid_template_areas": null,
            "grid_template_columns": null,
            "grid_template_rows": null,
            "height": null,
            "justify_content": null,
            "justify_items": null,
            "left": null,
            "margin": null,
            "max_height": null,
            "max_width": null,
            "min_height": null,
            "min_width": null,
            "object_fit": null,
            "object_position": null,
            "order": null,
            "overflow": null,
            "overflow_x": null,
            "overflow_y": null,
            "padding": null,
            "right": null,
            "top": null,
            "visibility": null,
            "width": null
          }
        },
        "f80a6e68772c4b22a91a07b18722505d": {
          "model_module": "@jupyter-widgets/controls",
          "model_name": "DescriptionStyleModel",
          "model_module_version": "1.5.0",
          "state": {
            "_model_module": "@jupyter-widgets/controls",
            "_model_module_version": "1.5.0",
            "_model_name": "DescriptionStyleModel",
            "_view_count": null,
            "_view_module": "@jupyter-widgets/base",
            "_view_module_version": "1.2.0",
            "_view_name": "StyleView",
            "description_width": ""
          }
        }
      }
    }
  },
  "cells": [
    {
      "cell_type": "markdown",
      "metadata": {
        "id": "view-in-github",
        "colab_type": "text"
      },
      "source": [
        "<a href=\"https://colab.research.google.com/github/KANG-dg/porject/blob/main/%EC%86%90%EA%B8%80%EC%94%A8_%EC%88%AB%EC%9E%90%EC%9D%B4%EB%AF%B8%EC%A7%80_%EB%B6%84%EB%A5%98.ipynb\" target=\"_parent\"><img src=\"https://colab.research.google.com/assets/colab-badge.svg\" alt=\"Open In Colab\"/></a>"
      ]
    },
    {
      "cell_type": "code",
      "execution_count": null,
      "metadata": {
        "id": "SXPFcgDEOViD"
      },
      "outputs": [],
      "source": [
        "# 모듈 불러오기\n",
        "import torch  # torch\n",
        "import torch.nn as nn  # 딥러닝 네트워크 구성요소 torch.nn\n",
        "import torch.nn.functional as F #딥러닝 함수 포함 모듈 torch.nn.functional\n",
        "import torch.optim as optim #가중치 추적에 필요한 최적화 알고리즘 torch.optim\n",
        "from torchvision import datasets, transforms\n",
        "\n",
        "from matplotlib import pyplot as plt\n",
        "%matplotlib inline"
      ]
    },
    {
      "cell_type": "code",
      "source": [
        "# 분석환경 설정\n",
        "is_cuda=torch.cuda.is_available()\n",
        "device=torch.device('cuda'if is_cuda else 'gpu')\n",
        "# 가중치 업데이트 연산에서 어떤 장비 선택할지 \n",
        "# gpu사용 가능하면 torch.cuda.is_available()에 true가 아니면 false저장됨"
      ],
      "metadata": {
        "id": "kgUTRlWkPCVY"
      },
      "execution_count": null,
      "outputs": []
    },
    {
      "cell_type": "code",
      "source": [
        "# hyperparameter 지정\n",
        "batch_size=50  # 모델 가중치 한번 업데이트 시 사용되는 샘플 단위 개수\n",
        "epoch_num=15  # 학습데이터 모두 사용하여 학습하는 단위 횟수\n",
        "learning_rate=0.0001 # 가중치 업데이트 정보"
      ],
      "metadata": {
        "id": "X1zJSwz7QQB6"
      },
      "execution_count": null,
      "outputs": []
    },
    {
      "cell_type": "code",
      "source": [
        "#mnist 데이터 불러오기\n",
        "train_data=datasets.MNIST(root='./data', train=True, download=True, transform=transforms.ToTensor())\n",
        "test_data=datasets.MNIST(root='./data', train=False, transform=transforms.ToTensor())\n",
        "# root=데이터를 저장할 물리적 공간 위치 './data' 는 현재 폴더 의미\n",
        "# train= 데이터를 학습용으로 사용 할 것인지 True/False\n",
        "# download= True입력시 root에서 지정한 위치에 데이터 저장 이미 저장된 데이터 있을 시 False 입력\n",
        "# transform=MNIST 데이터를 저장과 동시에 전처리 할 수 있는 옵션 \n",
        "# pytorch 에서는 입력 데이터로 tensor를 사용하므로 이미지를 tensor로 변형하는 전처리 transforms.ToTensor() 사용\n",
        "print('number of train data', len(train_data))\n",
        "print('number of test data', len(test_data))"
      ],
      "metadata": {
        "colab": {
          "base_uri": "https://localhost:8080/",
          "height": 473,
          "referenced_widgets": [
            "c9b9bf8e52904e27b4fba23a73301e04",
            "fca678f26a9d4f46b84f02dc687bd8c2",
            "7564d0ef22ff4e26a6f2664410c18ebb",
            "2a3464a6cfa94862948a022d26dc8330",
            "ef00b2eccda94f6eacf4fe894108e552",
            "f5c257464c3d46c2a1777c3600b5adb9",
            "3d8973a08db5401e96817dbcce843232",
            "d49173fb17b542129c6bb08da94cb457",
            "46149dc6706042b0b291213f3e265f72",
            "b5dac47c86ab48d0b0534fb079bc6613",
            "1db527d7d32a444c8056c386281d62b3",
            "930601546fb64c1dac1f211bb8caf8a1",
            "2a7fd7a7bc8c470684d4e86ec0a97fd5",
            "566c151b8b004220a282601c831eb644",
            "9a2b8aefd5fc4e13bf087b620746dcf6",
            "8dadc1e3d6704b35a6f1512dc4718bc3",
            "57ce8388ed44446a9cdb5b7712fc6e47",
            "d578295f392b4459b27d2d9cd883e2d1",
            "137178e01529455d9c19962efe8f4aa2",
            "6f7ba85bceab430389f0b93509e377e9",
            "658bb5aecb22431cadfe4b6eded7cb4f",
            "551e8fa064ba45e088499920f22dc5f0",
            "8430acd6039c4ab0b7fc58e93793cdc1",
            "26867de42d7540c6b52109af85f02b66",
            "9a5f71edd2d54fcf9208242c4e0d0c85",
            "530795e98d4147f79a307503d210b066",
            "7129af09f5784e9586d55a8663381a22",
            "d4027497460f44b493ff37226bf7303e",
            "e8c465a921c14e01adf5925607569975",
            "46bf873075f44139935fd2aa40ff0f73",
            "0e0023ea373f4f4d9e665e2a187c4ab2",
            "05a306c031dd481190f981f8fbb1d88a",
            "4f946fa838994bfcb36b389838485c95",
            "8ff69a631b684e4c94a5bcd44a4769aa",
            "ed82bd263f3d46e089bc6c75461ded02",
            "57170dba52a043d299ce13977a3529d2",
            "9ae3db4f5dc64318bad37ee815605d81",
            "69f8cbd7a63c4aed947238c14e97ad79",
            "fbf0f3c8262a4571b311c48eda2036f5",
            "d724347fe0bc441d90ade6b3fbda770d",
            "effe32044e454bd69ced7f0322fbeceb",
            "106d7e221aea4d96850470be58fffba5",
            "91e49793c59b456c842aad5243c0cf66",
            "f80a6e68772c4b22a91a07b18722505d"
          ]
        },
        "id": "akU0b9t9RVTm",
        "outputId": "aa42cb0d-34eb-4bf6-a950-fb15b829fef4"
      },
      "execution_count": null,
      "outputs": [
        {
          "output_type": "stream",
          "name": "stdout",
          "text": [
            "Downloading http://yann.lecun.com/exdb/mnist/train-images-idx3-ubyte.gz\n",
            "Downloading http://yann.lecun.com/exdb/mnist/train-images-idx3-ubyte.gz to ./data/MNIST/raw/train-images-idx3-ubyte.gz\n"
          ]
        },
        {
          "output_type": "display_data",
          "data": {
            "text/plain": [
              "  0%|          | 0/9912422 [00:00<?, ?it/s]"
            ],
            "application/vnd.jupyter.widget-view+json": {
              "version_major": 2,
              "version_minor": 0,
              "model_id": "c9b9bf8e52904e27b4fba23a73301e04"
            }
          },
          "metadata": {}
        },
        {
          "output_type": "stream",
          "name": "stdout",
          "text": [
            "Extracting ./data/MNIST/raw/train-images-idx3-ubyte.gz to ./data/MNIST/raw\n",
            "\n",
            "Downloading http://yann.lecun.com/exdb/mnist/train-labels-idx1-ubyte.gz\n",
            "Downloading http://yann.lecun.com/exdb/mnist/train-labels-idx1-ubyte.gz to ./data/MNIST/raw/train-labels-idx1-ubyte.gz\n"
          ]
        },
        {
          "output_type": "display_data",
          "data": {
            "text/plain": [
              "  0%|          | 0/28881 [00:00<?, ?it/s]"
            ],
            "application/vnd.jupyter.widget-view+json": {
              "version_major": 2,
              "version_minor": 0,
              "model_id": "930601546fb64c1dac1f211bb8caf8a1"
            }
          },
          "metadata": {}
        },
        {
          "output_type": "stream",
          "name": "stdout",
          "text": [
            "Extracting ./data/MNIST/raw/train-labels-idx1-ubyte.gz to ./data/MNIST/raw\n",
            "\n",
            "Downloading http://yann.lecun.com/exdb/mnist/t10k-images-idx3-ubyte.gz\n",
            "Downloading http://yann.lecun.com/exdb/mnist/t10k-images-idx3-ubyte.gz to ./data/MNIST/raw/t10k-images-idx3-ubyte.gz\n"
          ]
        },
        {
          "output_type": "display_data",
          "data": {
            "text/plain": [
              "  0%|          | 0/1648877 [00:00<?, ?it/s]"
            ],
            "application/vnd.jupyter.widget-view+json": {
              "version_major": 2,
              "version_minor": 0,
              "model_id": "8430acd6039c4ab0b7fc58e93793cdc1"
            }
          },
          "metadata": {}
        },
        {
          "output_type": "stream",
          "name": "stdout",
          "text": [
            "Extracting ./data/MNIST/raw/t10k-images-idx3-ubyte.gz to ./data/MNIST/raw\n",
            "\n",
            "Downloading http://yann.lecun.com/exdb/mnist/t10k-labels-idx1-ubyte.gz\n",
            "Downloading http://yann.lecun.com/exdb/mnist/t10k-labels-idx1-ubyte.gz to ./data/MNIST/raw/t10k-labels-idx1-ubyte.gz\n"
          ]
        },
        {
          "output_type": "display_data",
          "data": {
            "text/plain": [
              "  0%|          | 0/4542 [00:00<?, ?it/s]"
            ],
            "application/vnd.jupyter.widget-view+json": {
              "version_major": 2,
              "version_minor": 0,
              "model_id": "8ff69a631b684e4c94a5bcd44a4769aa"
            }
          },
          "metadata": {}
        },
        {
          "output_type": "stream",
          "name": "stdout",
          "text": [
            "Extracting ./data/MNIST/raw/t10k-labels-idx1-ubyte.gz to ./data/MNIST/raw\n",
            "\n",
            "number of train data 60000\n",
            "number of test data 10000\n"
          ]
        }
      ]
    },
    {
      "cell_type": "code",
      "source": [
        "image, label=train_data[0]  #학습 데이터의 입력과 정답 저장\n",
        "\n",
        "plt.imshow(image.squeeze().numpy(), cmap='gray') # squeeze()함수는 크기가 1인 차원을 없앰 MNIST는 [1,28,28]3차원 텐서 2차원[28,28]로 축소\n",
        "plt.title('label:%s'%label) \n",
        "plt.show()"
      ],
      "metadata": {
        "colab": {
          "base_uri": "https://localhost:8080/",
          "height": 281
        },
        "id": "kBGe3brrSw_q",
        "outputId": "30ec010c-b251-4abf-b878-856f5c8f37d5"
      },
      "execution_count": null,
      "outputs": [
        {
          "output_type": "display_data",
          "data": {
            "text/plain": [
              "<Figure size 432x288 with 1 Axes>"
            ],
            "image/png": "[encoded data removed]"
          },
          "metadata": {
            "needs_background": "light"
          }
        }
      ]
    },
    {
      "cell_type": "code",
      "source": [
        "# 미니 배치 구성하기\n",
        "train_loader=torch.utils.data.DataLoader(dataset=train_data,batch_size=batch_size,shuffle=True)\n",
        "test_loader=torch.utils.data.DataLoader(dataset=test_data, batch_size=batch_size, shuffle=True)\n",
        "# torch.utils.data.DataLoader 는 손쉬운 배치구성과 학습과정 반복할 때 마다 미니 배치를 하나씩 불러오는 함수\n",
        "# datasets: 미니배치로 구성할 데이터 / batch_size=미니 배치의 사이즈 /\n",
        "# shuffle=데이터의 순서를 랜덤으로 섞어 미니 배치를 구성할지 여부 시계열 데이터가 아닐시 딥러닝이 데이터 순서를 학습하지 못하게 섞어줘야함\n",
        "\n",
        "# 에폭(epoch): 하나의 단위. 1에폭은 학습에서 훈련 데이터를 모두 소진했을 때의 횟수에 해당함.\n",
        "# 미니 배치(mini batch): 전체 데이터 셋을 몇 개의 데이터 셋으로 나누었을 때, 그 작은 데이터 셋 뭉치\n",
        "# 배치 사이즈(batch size): 하나의 미니 배치에 넘겨주는 데이터 갯수, 즉 한번의 배치마다 주는 샘플의 size\n",
        "# 이터레이션(iteration): 하나의 미니 배치를 학습할 때 1iteration이라고 한다. 즉, 미니 배치 갯수 = 이터레이션 수\n",
        "\n",
        "first_batch=train_loader.__iter__().__next__()  #iter(객체) 를 통해 값을 가져오고 next를 통해 다음요소를 가져옴 for문을 수동으로 실행하는것과 유사\n",
        "print('{:15s}|{:<25s}|{}'.format('name','type','size'))\n",
        "print('{:15s}|{:<25s}|{}'.format('Num od Batch','',len(train_loader)))\n",
        "print('{:15s}|{:<25s}|{}'.format('first batch', str(type(first_batch)),len(first_batch)))\n",
        "print('{:15s}|{:<25s}|{}'.format('first_batch[0]',str(type(first_batch[0])),first_batch[0].shape))\n",
        "print('{:15s}|{:<25s}|{}'.format('first_batch[1]',str(type(first_batch[1])),first_batch[1].shape))\n",
        "\n",
        "# 60,000 개의 학습데이터에서 50의 배치사이즈를 사용했기에 1,200개의 미니배치 생성됨\n",
        "# 미니배치의 첫번째 요소 first_batch[0] 는 [50,1,28,28]형태 4차원 tensor 각 요소는[batch_size,channel,width,height]\n",
        "# 미니배치의 두번째 요소 first_batch[1]는 50크기 벡터 즉, 미니배치의 정답이 저장됨"
      ],
      "metadata": {
        "colab": {
          "base_uri": "https://localhost:8080/"
        },
        "id": "tK3UVKDdACWe",
        "outputId": "d8723809-8c61-4aa3-b7ce-f4799bf40cf4"
      },
      "execution_count": null,
      "outputs": [
        {
          "output_type": "stream",
          "name": "stdout",
          "text": [
            "name           |type                     |size\n",
            "Num od Batch   |                         |1200\n",
            "first batch    |<class 'list'>           |2\n",
            "first_batch[0] |<class 'torch.Tensor'>   |torch.Size([50, 1, 28, 28])\n",
            "first_batch[1] |<class 'torch.Tensor'>   |torch.Size([50])\n"
          ]
        }
      ]
    },
    {
      "cell_type": "code",
      "source": [
        "# 모델 학습\n",
        "# 모델 생성 시 __init__를 통해 모델에 사용되는 가중치 형태 정의\n",
        "# layer 쌓으면서 이전layer의 출력크기와 직후 layer의 입력 크기를 같게 설계해야 함\n",
        "# feature map 공식= I(입력크기)+2p(padding크기)-F(filter size)+1/S(stride 크기)\n",
        "# nn.Conv2d 함수는 padding=0, stride=1을 기본 값으로 사용\n",
        "# maxpooling의 경우 tensor의 가로 세로에만 영향을 주므로 [64,24,24]에서 [64,12,12]로 반감\n",
        "# flatten연산은 fully-connected layer연산을 위해 고차원 tensor를 1차원으로 줄임\n",
        "# 3차원 tensor[64,12,12]를 9,216길이의 1차원 벡터로 변환\n",
        "# 마지막 fully_connected layer인 fc2에서는 각 출력 클래스의 분류 확률을 받기 위해\n",
        "# 크기를 맞추어야 함 MNIST는 0에서9까지 10개의 클래스이기에 10의 길이로 구성"
      ],
      "metadata": {
        "id": "Ys3mNDbkek_2"
      },
      "execution_count": null,
      "outputs": []
    },
    {
      "cell_type": "code",
      "source": [
        "class CNN(nn.Module):\n",
        "  def __init__(self):\n",
        "    super(CNN, self).__init__()\n",
        "    self.conv1=nn.Conv2d(1,32,3,1)\n",
        "    # 첫번째 convolutional layer 각 옵션은(in_channels=1, out_channels=32, kernel_size=3, stride=1)\n",
        "    # in_channels는 conv1의 입력 tensor의 채널 크기 out_channels는 conv1의 출력 tensor크기 out_channels는 conv2의 in_channels와 같아야함\n",
        "    # kernel_size는 filter의 크기를 나타내며 scalar 값으로 나타낼 경우 가로와 세로 크기가 같은 2D filter생성 kernem_size=3은 (3x3)filter\n",
        "    # stride는 filter가 움직이는 단위 padding은 지정하지 않았으므로 0으로 적용되어 실행되지 않음 \n",
        "    self.conv2=nn.Conv2d(32,64,3,1)\n",
        "    self.dropout1=nn.Dropout2d(0.25) # 확률0.25의 dropout\n",
        "    self.dropout2=nn.Dropout2d(0.5) # 확률 0.5의 dropout\n",
        "    self.fc1=nn.Linear(9216,128)\n",
        "    # 첫 번쨰 fully_connected layer fc1정의 9216크기의 벡터를 128크기로 변환하는 가중치 설계\n",
        "    self.fc2=nn.Linear(128,10)\n",
        "    # 두 번째 fully connected layer fc2정의 fc1의 128크기 벡터를 mnist클래스 개수인 10크기의 벡터로 변환하는 가중치 설계\n",
        "\n",
        "  def forward(self,x):  # 입력 이미지와 정의한 가중치를 이용해 feed forward연산을 정의  \n",
        "    x=self.conv1(x)   # 입력 이미지를 conv1레이어에 통과\n",
        "    x=F.relu(x)   # ReLu활성함수 적용 활성함수는 단순 연산이므로 __init__에서 정의한 학습 가중치 없음\n",
        "    x=self.conv2(x) # conv2레이어 통과\n",
        "    x=F.relu(x) #ReLu 활성함수 적용\n",
        "    x=F.max_pool2d(x,2) #(2x2)크기의 filter로 max pooling을 적용 pooling layer는 단순 연산이므로 학습 가중치 없음\n",
        "    x=self.dropout1(x)  #사전에 정의한 0.25의 확률의 dropout1을 반영\n",
        "    x=torch.flatten(x,1)   # torch.flatten함수를 통해 fully_connected layer를 통과하기 전 고차원의 tensor를 1차원 벡터로 변경\n",
        "                             # 2개의 convolutional layer와 1번의 maxpooling으로 만들어 진 [64,12,12]크기의 3차원 tensor를 9,216크기 벡터로 변환\n",
        "    x=self.fc1(x)   # 9,216크기 벡터를 128크기 벡터로 학습하는 fc1을 통과\n",
        "    x=F.relu(x)  # ReLu활성함수 적용\n",
        "    x=self.dropout2(x) # 기존에 정의한 0.5확률의 dropout2를 반영\n",
        "    x=self.fc2(x)  # 두 번째 fully_connected layer인 fc2를 통과하면서 벡터 사이즈 128에서 10으로 줄임\n",
        "    output=F.log_softmax(x,dim=1) # 최종 출력값으로 log_softmax를 계산 softmax함수가 아닌 lof_softmax() 사용시 연산속도 높일 수 있음\n",
        "    return output  # 최종 출력값 반환"
      ],
      "metadata": {
        "id": "2t6iJlmhmUMX"
      },
      "execution_count": null,
      "outputs": []
    },
    {
      "cell_type": "code",
      "source": [
        "model=CNN().to(device) # CNN클래스를 이용 model이라는 인스턴스 생성 이 때 코드 상단에 지정한 연산장비(cpu/gpu)device를 인식\n",
        "optimizer=optim.Adam(model.parameters(), lr=learning_rate) # 손실함수를 최소로하는 가중치를 찾기 위해 Adam알고리즘의 optimizer를 지정\n",
        "criterion=nn.CrossEntropyLoss() # MNIST는 다중 클래스 분류 문제이기에 교차 엔트로피(cross entropy)를 손실함수로 설정"
      ],
      "metadata": {
        "id": "xhjIz9F9ytbv"
      },
      "execution_count": null,
      "outputs": []
    },
    {
      "cell_type": "code",
      "source": [
        "# 설계한 cnn모형 확인\n",
        "print(model)"
      ],
      "metadata": {
        "colab": {
          "base_uri": "https://localhost:8080/"
        },
        "id": "rlCOl81qzjHh",
        "outputId": "f2e9675e-af13-48b2-c8f0-7dbebadc2126"
      },
      "execution_count": null,
      "outputs": [
        {
          "output_type": "stream",
          "name": "stdout",
          "text": [
            "CNN(\n",
            "  (conv1): Conv2d(1, 32, kernel_size=(3, 3), stride=(1, 1))\n",
            "  (conv2): Conv2d(32, 64, kernel_size=(3, 3), stride=(1, 1))\n",
            "  (dropout1): Dropout2d(p=0.25, inplace=False)\n",
            "  (dropout2): Dropout2d(p=0.5, inplace=False)\n",
            "  (fc1): Linear(in_features=9216, out_features=128, bias=True)\n",
            "  (fc2): Linear(in_features=128, out_features=10, bias=True)\n",
            ")\n"
          ]
        }
      ]
    },
    {
      "cell_type": "code",
      "source": [
        "# 모델 학습\n",
        "model.train() # cnn클래스 저장돈 model인스턴스를 학습모드로 실행\n",
        "i=0  #반복 학습중 손실 함수 현황을 확인하고자 학습 횟수를 나타내는 보조 인덱스 지정\n",
        "for epoch in range(epoch_num): # 미리 저장해둔 epoch수 만큼 반복학습 for문 선언\n",
        "  for data, target in train_loader: # 학습 데이터를 batch_size로 나눈 만큼 반복 수행하며 train_loader는 매 시행마다 미니배치의 데이터와 정답을 data와 target에 저장\n",
        "    data=data.to(device)  # 미니배치의 데이터를 기존에 지정한 장비 device에 할당\n",
        "    target=target.to(device) # 미니배치의 정답을 기존에 지정한 장비 device에 할당\n",
        "    optimizer.zero_grad() # 학습 시작 전 이전 반복시행에서 저장된 optimizer의 gradient를 초기화\n",
        "    output=model(data) # 미니 배치 데이터를 모델에 통과시키는 feed forward연산으로 결괏값 계산\n",
        "    loss=criterion(output, target) # 계산된 결괏괎과 실제 정답으로 손실 함수를 계산\n",
        "    loss.backward() # 손실함수로 gradient를 계산\n",
        "    optimizer.step() # 위에서 계산된 gradient를 통해 모델의 가중치 업데이트\n",
        "    if i % 1000==0:  # 학습이 잘 되는지 확인하기위해 1000번째 마가 손실함수 확인하기위한 if문\n",
        "      print('train step:{}\\tLoss:{:.3f}'.format(i,loss.item())) # 손실함수 출력\n",
        "    i+=1 # 학습완료시 보조인덱스 +1"
      ],
      "metadata": {
        "colab": {
          "base_uri": "https://localhost:8080/"
        },
        "id": "Wb8nbhmT2kR3",
        "outputId": "a9d6ec03-9490-481d-fc1f-5131048a4622"
      },
      "execution_count": null,
      "outputs": [
        {
          "output_type": "stream",
          "name": "stderr",
          "text": [
            "/usr/local/lib/python3.7/dist-packages/torch/nn/functional.py:1331: UserWarning: dropout2d: Received a 2-D input to dropout2d, which is deprecated and will result in an error in a future release. To retain the behavior and silence this warning, please use dropout instead. Note that dropout2d exists to provide channel-wise dropout on inputs with 2 spatial dimensions, a channel dimension, and an optional batch dimension (i.e. 3D or 4D inputs).\n",
            "  warnings.warn(warn_msg)\n"
          ]
        },
        {
          "output_type": "stream",
          "name": "stdout",
          "text": [
            "train step:0\tLoss:2.303\n",
            "train step:1000\tLoss:0.183\n",
            "train step:2000\tLoss:0.224\n",
            "train step:3000\tLoss:0.267\n",
            "train step:4000\tLoss:0.291\n",
            "train step:5000\tLoss:0.031\n",
            "train step:6000\tLoss:0.110\n",
            "train step:7000\tLoss:0.051\n",
            "train step:8000\tLoss:0.183\n",
            "train step:9000\tLoss:0.101\n",
            "train step:10000\tLoss:0.105\n",
            "train step:11000\tLoss:0.150\n",
            "train step:12000\tLoss:0.164\n",
            "train step:13000\tLoss:0.091\n",
            "train step:14000\tLoss:0.150\n",
            "train step:15000\tLoss:0.020\n",
            "train step:16000\tLoss:0.060\n",
            "train step:17000\tLoss:0.193\n"
          ]
        }
      ]
    },
    {
      "cell_type": "code",
      "source": [
        "model.eval() # eval함수 호출하여 dropoup적용되지 않고 batch_nomalization도 평가모드로 전화\n",
        "correct=0 # 정답 개수 저장할 correct 초기화\n",
        "for data, target in test_loader: # 테스트 데이터를 batch_size로 나눈만큼 반복 수햏되면 test_loader는 시행마다 미니 배치의 데이터와 정답을 data와 target에 저장\n",
        "  data=data.to(device) # 미니배치의 데이터를 기존에 지정한 장비 device에 할당\n",
        "  target=target.to(device) # 미디배치의 정답을 기존에 지정한 장비 device에 할당\n",
        "  output=model(data) # 미니 배치 데이터를 모델에 통과시켜 결괏값 계산\n",
        "  prediction=output.data.max(1)[1] # log_softmax 값이 가장 큰 인덱스를 예측값으로 저장\n",
        "  correct+=prediction.eq(target.data).sum() # 실제 정답과 예측값이 같으면 True 아니면 False인 논리값으로 구성된 백터를 더함\n",
        "                                            # 미니 배치 중 정답의 개수를 구하고 반복 시행마다 누적하여 더함  .eq는 (=) 과 같은 의미\n",
        "\n",
        "print('Test set: Accuracy:{:.2f}'.format(100*correct/len(test_loader.dataset))) # 전체 테스트 데이터 중 맞춘 개수의 비율을 통해 정확도 뎨산하여 출력"
      ],
      "metadata": {
        "colab": {
          "base_uri": "https://localhost:8080/"
        },
        "id": "uQvATueoitSJ",
        "outputId": "6f9ad6c2-770e-4658-977e-b7775fb205bf"
      },
      "execution_count": null,
      "outputs": [
        {
          "output_type": "stream",
          "name": "stdout",
          "text": [
            "Test set: Accuracy:99.00\n"
          ]
        }
      ]
    }
  ]
}